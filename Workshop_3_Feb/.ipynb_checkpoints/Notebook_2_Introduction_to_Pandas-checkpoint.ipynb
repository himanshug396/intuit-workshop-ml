{
 "cells": [
  {
   "cell_type": "markdown",
   "metadata": {
    "collapsed": true
   },
   "source": [
    "## Introduction to Pandas ##\n",
    "We will learn:\n",
    "\n",
    "a) What is Pandas?\n",
    "\n",
    "b) What is a Series ?\n",
    "\n",
    "c) What is a DataFrame?\n",
    "\n",
    "d) How to read data from a file to DataFrame ?\n",
    "\n",
    "e) Exploring the Dataframe."
   ]
  },
  {
   "cell_type": "code",
   "execution_count": null,
   "metadata": {
    "collapsed": false
   },
   "outputs": [],
   "source": [
    "import numpy as np\n",
    "\n",
    "from pandas import Series,DataFrame\n",
    "import pandas as pd"
   ]
  },
  {
   "cell_type": "code",
   "execution_count": null,
   "metadata": {
    "collapsed": false
   },
   "outputs": [],
   "source": [
    "# Series\n",
    "# A Series is a labelled collection of values similar to the NumPy vector. \n",
    "\n",
    "series = Series([3,6,9,12])\n"
   ]
  },
  {
   "cell_type": "code",
   "execution_count": null,
   "metadata": {
    "collapsed": false
   },
   "outputs": [],
   "source": [
    "# Lets print values\n",
    "\n",
    "\n",
    "# Lets print index \n"
   ]
  },
  {
   "cell_type": "code",
   "execution_count": null,
   "metadata": {
    "collapsed": false
   },
   "outputs": [],
   "source": [
    "# The main advantage of Series objects is the ability to utilize non-integer labels/index.\n",
    "\n",
    "ww2_casuality = Series([8700000,4300000,3000000,2100000,400000],index=['USSR','Germany','China','Japan','USA'])\n",
    "\n",
    "print ww2_casuality"
   ]
  },
  {
   "cell_type": "code",
   "execution_count": null,
   "metadata": {
    "collapsed": false,
    "scrolled": true
   },
   "outputs": [],
   "source": [
    "# Now we can use index values to select values in Series\n",
    "# Check the value of index 'USA'\n"
   ]
  },
  {
   "cell_type": "code",
   "execution_count": null,
   "metadata": {
    "collapsed": true
   },
   "outputs": [],
   "source": [
    "# Check if USSR is in Series index\n"
   ]
  },
  {
   "cell_type": "code",
   "execution_count": null,
   "metadata": {
    "collapsed": true
   },
   "outputs": [],
   "source": [
    "# Check who had casualties greater than 4 million (4000000)\n"
   ]
  },
  {
   "cell_type": "code",
   "execution_count": null,
   "metadata": {
    "collapsed": false
   },
   "outputs": [],
   "source": [
    "# Naming the series and index\n",
    "ww2_casuality.name = \"Casualities in World War 2\"\n",
    "ww2_casuality.index.name = \"Countries\"\n",
    "ww2_casuality"
   ]
  },
  {
   "cell_type": "markdown",
   "metadata": {},
   "source": [
    "### Now we'll learn DataFrame ###\n",
    "\n",
    "A dataframe is a highly efficient, 2-dimensional data structure that provides a suite of methods and attributes to quickly explore, analyze, and visualize data."
   ]
  },
  {
   "cell_type": "code",
   "execution_count": null,
   "metadata": {
    "collapsed": false
   },
   "outputs": [],
   "source": [
    "# Read data from csv file\n",
    "df = pd.read_csv(\"ship_data.csv\")"
   ]
  },
  {
   "cell_type": "code",
   "execution_count": null,
   "metadata": {
    "collapsed": false
   },
   "outputs": [],
   "source": [
    "# Now that we've read the dataset into a dataframe, we can start using the dataframe methods to explore the data\n",
    "# a) Print the first 10 values in the df\n",
    "\n"
   ]
  },
  {
   "cell_type": "code",
   "execution_count": null,
   "metadata": {
    "collapsed": true
   },
   "outputs": [],
   "source": [
    "# b) Try printing out the last 15 values in the df.\n"
   ]
  },
  {
   "cell_type": "code",
   "execution_count": null,
   "metadata": {
    "collapsed": false
   },
   "outputs": [],
   "source": [
    "# Lenght of dataframe\n"
   ]
  },
  {
   "cell_type": "code",
   "execution_count": null,
   "metadata": {
    "collapsed": false
   },
   "outputs": [],
   "source": [
    "# To access the full list of column names, use the columns attribute\n",
    "#column_names = ??\n",
    "\n",
    "#print column_names"
   ]
  },
  {
   "cell_type": "code",
   "execution_count": null,
   "metadata": {
    "collapsed": false
   },
   "outputs": [],
   "source": [
    "# Selecting Individual Columns\n",
    "series = df[\"Passenger ID\"] \n",
    "print series.head(10)"
   ]
  },
  {
   "cell_type": "code",
   "execution_count": null,
   "metadata": {
    "collapsed": false
   },
   "outputs": [],
   "source": [
    "# Selecting Multiple Columns - say 'Passenger ID' and 'Name'\n"
   ]
  },
  {
   "cell_type": "code",
   "execution_count": null,
   "metadata": {
    "collapsed": false
   },
   "outputs": [],
   "source": [
    "#Selecting Rows from 3 to 6\n",
    "df.loc[3:6]"
   ]
  },
  {
   "cell_type": "code",
   "execution_count": null,
   "metadata": {
    "collapsed": false
   },
   "outputs": [],
   "source": [
    "#Selecting Rows with index 1, 5, 10\n"
   ]
  },
  {
   "cell_type": "code",
   "execution_count": null,
   "metadata": {
    "collapsed": false
   },
   "outputs": [],
   "source": [
    "# Try adding a column say Alive/Dead to the DataFrame with a default value 'Dead'\n",
    "df[\"Alive/Dead\"] = 'Dead'\n",
    "df.head()"
   ]
  },
  {
   "cell_type": "code",
   "execution_count": null,
   "metadata": {
    "collapsed": false
   },
   "outputs": [],
   "source": [
    "# assign value 'Alive' to rows with index 0 and 4\n",
    "alive_or_dead = Series([\"Alive\",\"Alive\"],index=[4,0])\n",
    "\n",
    "print alive_or_dead\n",
    "df[\"Alive/Dead\"] = alive_or_dead\n",
    "df.head()"
   ]
  },
  {
   "cell_type": "code",
   "execution_count": null,
   "metadata": {
    "collapsed": true
   },
   "outputs": [],
   "source": [
    "# Check what these return:\n",
    "#     1)type(df) - Check the datatype\n",
    "#     2)df.info  - Check the starting index"
   ]
  },
  {
   "cell_type": "code",
   "execution_count": null,
   "metadata": {
    "collapsed": true
   },
   "outputs": [],
   "source": []
  },
  {
   "cell_type": "code",
   "execution_count": null,
   "metadata": {
    "collapsed": true
   },
   "outputs": [],
   "source": []
  },
  {
   "cell_type": "code",
   "execution_count": null,
   "metadata": {
    "collapsed": false
   },
   "outputs": [],
   "source": [
    "# Try out:\n",
    "#         1) matrix = df.as_matrix()\n",
    "#         2) Check the datatype of matrix\n",
    "#         3) Print df[0,0] and df[0]\n",
    "#         4) Check the datatype of df[0]\n",
    "# Try out:\n",
    "#         1) Print df.iloc[0] \n",
    "#         2) Print df.ix[0]\n",
    "#         3) Check the datatype of df.ix[0] "
   ]
  },
  {
   "cell_type": "code",
   "execution_count": null,
   "metadata": {
    "collapsed": false
   },
   "outputs": [],
   "source": [
    "matrix = df.as_matrix()\n",
    "type(matrix)"
   ]
  },
  {
   "cell_type": "code",
   "execution_count": null,
   "metadata": {
    "collapsed": false
   },
   "outputs": [],
   "source": []
  },
  {
   "cell_type": "code",
   "execution_count": null,
   "metadata": {
    "collapsed": false
   },
   "outputs": [],
   "source": []
  },
  {
   "cell_type": "code",
   "execution_count": null,
   "metadata": {
    "collapsed": true
   },
   "outputs": [],
   "source": []
  },
  {
   "cell_type": "code",
   "execution_count": null,
   "metadata": {
    "collapsed": false
   },
   "outputs": [],
   "source": [
    "# Print the 'Passenger ID' column where the Passenger ID is less than 10\n",
    "# Hint: DataFrame can accept conditions such as: Passenger ID < 10.\n",
    "pessenger_id_less_than_10 = (df[\"Passenger ID\"] < 10)\n",
    "\n",
    "print pessenger_id_less_than_10.head()\n",
    "\n",
    "df[pessenger_id_less_than_10]"
   ]
  },
  {
   "cell_type": "code",
   "execution_count": null,
   "metadata": {
    "collapsed": false
   },
   "outputs": [],
   "source": [
    "# Print the passengers in first Class (Class=1)\n"
   ]
  },
  {
   "cell_type": "code",
   "execution_count": null,
   "metadata": {
    "collapsed": false
   },
   "outputs": [],
   "source": [
    "# you can also add multiple conditions using logical operators (& and |)\n",
    "pessengers_in_first_class_with_id_less_than_10 = (df[\"Class\"] == 1) & (df[\"Passenger ID\"] < 10)\n",
    "df[pessengers_in_first_class_with_id_less_than_10]"
   ]
  },
  {
   "cell_type": "code",
   "execution_count": null,
   "metadata": {
    "collapsed": false
   },
   "outputs": [],
   "source": [
    "# Print passengers with age > 50 and Class = 1\n"
   ]
  },
  {
   "cell_type": "markdown",
   "metadata": {},
   "source": [
    "## Check point ##\n",
    "\n",
    "Pandas is used to load the data from file.\n",
    "\n",
    "In Pandas, Series can be thought of as column/row (1D), DataFrame as a table (2D).\n",
    "\n",
    "Pandas series/dataframe can be easily converted to numpy arrays.\n",
    "\n",
    "REMEMBER: DataFrame[0] - returns all values of  column '0'\n",
    "NumpyArray[0] - returns all values in the row '0'"
   ]
  }
 ],
 "metadata": {
  "anaconda-cloud": {},
  "kernelspec": {
   "display_name": "Python [conda env:py27]",
   "language": "python",
   "name": "conda-env-py27-py"
  },
  "language_info": {
   "codemirror_mode": {
    "name": "ipython",
    "version": 2
   },
   "file_extension": ".py",
   "mimetype": "text/x-python",
   "name": "python",
   "nbconvert_exporter": "python",
   "pygments_lexer": "ipython2",
   "version": "2.7.13"
  }
 },
 "nbformat": 4,
 "nbformat_minor": 1
}
