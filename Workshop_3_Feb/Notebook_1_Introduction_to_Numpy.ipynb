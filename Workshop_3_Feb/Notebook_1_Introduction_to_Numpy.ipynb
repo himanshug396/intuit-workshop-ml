{
 "cells": [
  {
   "cell_type": "markdown",
   "metadata": {
    "collapsed": true
   },
   "source": [
    "## Getting Started & Introduction to Numpy ##\n",
    "This introduction will teach you to do:\n",
    "\n",
    "a) Learn to use the Jupyter Notebook and execute commands.\n",
    "\n",
    "b) Creating Lists in Python.\n",
    "\n",
    "c) Creating Numpy Arrays\n",
    "\n",
    "d) Understand the difference between the Python list and Numpy arrays."
   ]
  },
  {
   "cell_type": "code",
   "execution_count": 1,
   "metadata": {
    "scrolled": false
   },
   "outputs": [
    {
     "name": "stdout",
     "output_type": "stream",
     "text": [
      "Hi there! Machine Learning is easy!!\n",
      " Print To \n",
      " Next Line\n"
     ]
    }
   ],
   "source": [
    "# Test whether you are able to print something\n",
    "print 'Hi there! Machine Learning is easy!!'\n",
    "\n",
    "#Notice that you can use \\n\n",
    "print ' Print To \\n Next Line'"
   ]
  },
  {
   "cell_type": "code",
   "execution_count": 5,
   "metadata": {},
   "outputs": [
    {
     "name": "stdout",
     "output_type": "stream",
     "text": [
      "[1, 2, 'Three']\n",
      "1\n",
      "Elements in the list are:\n",
      "1\n",
      "2\n",
      "Three\n"
     ]
    }
   ],
   "source": [
    "# This is a list in Python. list is similar to an array!\n",
    "list1 = [1,2,\"Three\"]\n",
    "\n",
    "print list1\n",
    "\n",
    "print list1[0]\n",
    "\n",
    "print 'Elements in the list are:'\n",
    "for element in list1:\n",
    "    print element"
   ]
  },
  {
   "cell_type": "code",
   "execution_count": 6,
   "metadata": {},
   "outputs": [],
   "source": [
    "list_of_lists = [[1,2,3],[4,5,6],[7,8,9]]"
   ]
  },
  {
   "cell_type": "code",
   "execution_count": 7,
   "metadata": {},
   "outputs": [
    {
     "name": "stdout",
     "output_type": "stream",
     "text": [
      "[[1 2 3]\n",
      " [4 5 6]\n",
      " [7 8 9]]\n"
     ]
    }
   ],
   "source": [
    "#Import statement for importing Numpy.\n",
    "import numpy as np\n",
    "\n",
    "#This is how we can create a Numpy array\n",
    "numpy_array = np.array([[1,2,3],[4,5,6],[7,8,9]])\n",
    "    \n",
    "#print the array\n",
    "print numpy_array"
   ]
  },
  {
   "cell_type": "code",
   "execution_count": 13,
   "metadata": {},
   "outputs": [
    {
     "data": {
      "text/plain": [
       "(3, 3)"
      ]
     },
     "execution_count": 13,
     "metadata": {},
     "output_type": "execute_result"
    }
   ],
   "source": [
    "#Array shape\n",
    "numpy_array.shape"
   ]
  },
  {
   "cell_type": "code",
   "execution_count": 14,
   "metadata": {},
   "outputs": [
    {
     "data": {
      "text/plain": [
       "4"
      ]
     },
     "execution_count": 14,
     "metadata": {},
     "output_type": "execute_result"
    }
   ],
   "source": [
    "#Indexing Numpy arrays\n",
    "numpy_array[1,0]"
   ]
  },
  {
   "cell_type": "code",
   "execution_count": 18,
   "metadata": {},
   "outputs": [
    {
     "data": {
      "text/plain": [
       "array([[5, 6],\n",
       "       [8, 9]])"
      ]
     },
     "execution_count": 18,
     "metadata": {},
     "output_type": "execute_result"
    }
   ],
   "source": [
    "#Slicing Numy arrays\n",
    "numpy_array[1:3,1:3]\n"
   ]
  },
  {
   "cell_type": "code",
   "execution_count": 19,
   "metadata": {
    "scrolled": true
   },
   "outputs": [
    {
     "name": "stdout",
     "output_type": "stream",
     "text": [
      "Addition of numpy arrays:\n",
      "[2 4 6 8]\n"
     ]
    }
   ],
   "source": [
    "# Create 2 new Numpy arrays and add them together. Print the result.\n",
    "\n",
    "na1 = np.array([1,2,3,4])\n",
    "na2 = np.array([1,2,3,4])\n",
    "\n",
    "# This is how we can add two Numpy arrays\n",
    "na3 = na1 + na2\n",
    "\n",
    "# print the array\n",
    "print 'Addition of numpy arrays:'\n",
    "print na3"
   ]
  },
  {
   "cell_type": "markdown",
   "metadata": {},
   "source": [
    "## Check point ##\n",
    "\n",
    "Using NumPy, we can much more efficiently analyze data than we can using lists.\n",
    "\n",
    "NumPy arrays are more faster and efficient compared to Python lists.\n",
    "\n",
    "**Exercise for later**\n",
    "\n",
    "Try out other operations on Numpy Array - Subtraction, Multiplication, Dot Product! "
   ]
  },
  {
   "cell_type": "code",
   "execution_count": null,
   "metadata": {},
   "outputs": [],
   "source": []
  },
  {
   "cell_type": "code",
   "execution_count": null,
   "metadata": {
    "collapsed": true
   },
   "outputs": [],
   "source": []
  },
  {
   "cell_type": "code",
   "execution_count": 12,
   "metadata": {},
   "outputs": [
    {
     "name": "stdout",
     "output_type": "stream",
     "text": [
      "<module 'numpy' from '/home/himanshu/anaconda2/lib/python2.7/site-packages/numpy/__init__.pyc'>\n"
     ]
    }
   ],
   "source": [
    "print np"
   ]
  },
  {
   "cell_type": "code",
   "execution_count": null,
   "metadata": {
    "collapsed": true
   },
   "outputs": [],
   "source": []
  }
 ],
 "metadata": {
  "anaconda-cloud": {},
  "kernelspec": {
   "display_name": "Python 2",
   "language": "python",
   "name": "python2"
  },
  "language_info": {
   "codemirror_mode": {
    "name": "ipython",
    "version": 2
   },
   "file_extension": ".py",
   "mimetype": "text/x-python",
   "name": "python",
   "nbconvert_exporter": "python",
   "pygments_lexer": "ipython2",
   "version": "2.7.14"
  }
 },
 "nbformat": 4,
 "nbformat_minor": 1
}
